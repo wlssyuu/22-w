{
  "cells": [
    {
      "cell_type": "code",
      "execution_count": 1,
      "metadata": {
        "gather": {
          "logged": 1675148985983
        }
      },
      "outputs": [
        {
          "name": "stdout",
          "output_type": "stream",
          "text": [
            "Workspace name: labuser15ml\n",
            "Azure region: koreacentral\n",
            "Subscription ID: f5bc93f2-df0a-4b1a-ab9e-2b0203fc7d26\n",
            "Resource Group: rg15\n"
          ]
        }
      ],
      "source": [
        "from azureml.core import Workspace\n",
        "\n",
        "ws = Workspace.from_config()\n",
        "print('Workspace name: ' + ws.name,\n",
        "        'Azure region: ' + ws.location,\n",
        "        'Subscription ID: ' + ws.subscription_id,\n",
        "        'Resource Group: ' + ws.resource_group,\n",
        "        sep='\\n')"
      ]
    },
    {
      "cell_type": "code",
      "execution_count": 2,
      "metadata": {
        "gather": {
          "logged": 1675148986214
        },
        "jupyter": {
          "outputs_hidden": false,
          "source_hidden": false
        },
        "nteract": {
          "transient": {
            "deleting": false
          }
        }
      },
      "outputs": [],
      "source": [
        "from azureml.core import Experiment\n",
        "\n",
        "experiment = Experiment(workspace = ws, name = 'diabetes-experiment') # 실험 공간 생성"
      ]
    },
    {
      "cell_type": "code",
      "execution_count": 9,
      "metadata": {
        "gather": {
          "logged": 1675149425021
        },
        "jupyter": {
          "outputs_hidden": false,
          "source_hidden": false
        },
        "nteract": {
          "transient": {
            "deleting": false
          }
        }
      },
      "outputs": [],
      "source": [
        "from azureml.opendatasets import Diabetes\n",
        "from sklearn.model_selection import train_test_split\n",
        "\n",
        "x_df = Diabetes.get_tabular_dataset().to_pandas_dataframe().dropna() # null data/공백을 drop하고 표 형식으로 당뇨병 자료를 읽음\n",
        "y_df = x_df.pop('Y') # x_df.column('Y')\n",
        "\n",
        "X_train, X_test, y_train, y_test = train_test_split(x_df, y_df, test_size = 0.2, random_state = 66) \n",
        "# X : feature, y : label, _train : 학습용, _test : 테스트용"
      ]
    },
    {
      "cell_type": "code",
      "execution_count": 11,
      "metadata": {
        "gather": {
          "logged": 1675151027060
        },
        "jupyter": {
          "outputs_hidden": false,
          "source_hidden": false
        },
        "nteract": {
          "transient": {
            "deleting": false
          }
        }
      },
      "outputs": [
        {
          "name": "stdout",
          "output_type": "stream",
          "text": [
            "0.1 exp completed\n",
            "0.2 exp completed\n",
            "0.3 exp completed\n",
            "0.4 exp completed\n",
            "0.5 exp completed\n",
            "0.6 exp completed\n",
            "0.7 exp completed\n",
            "0.8 exp completed\n",
            "0.9 exp completed\n",
            "1 exp completed\n"
          ]
        }
      ],
      "source": [
        "from sklearn.linear_model import Ridge\n",
        "from sklearn.metrics import mean_squared_error # 정확도 평가 (mse)\n",
        "from sklearn.externals import joblib\n",
        "import math\n",
        "\n",
        "alphas = [0.1, 0.2, 0.3, 0.4, 0.5, 0.6, 0.7, 0.8, 0.9, 1]\n",
        "for alpha in alphas:\n",
        "    run = experiment.start_logging() # 실험에 대해 기록 시작\n",
        "    run.log('alpha_value', alpha) # 현재 alpha value 기록\n",
        "    \n",
        "    model = Ridge(alpha=alpha) # parameter : alpha로 ridge regression\n",
        "    model.fit(X = X_train, y = y_train) # ridge regression 실행\n",
        "    \n",
        "    y_pred = model.predict(X=X_test)\n",
        "    rmse = math.sqrt(mean_squared_error(y_true = y_test, y_pred = y_pred)) #평균 제곱 오차, rmse\n",
        "    run.log('rmse', rmse) # rmse 기록\n",
        "\n",
        "    model_name = 'model_apha_' + str(alpha) + '.pkl' # pkl : sklearn에서 model 저장을 위한 확장자\n",
        "    filename = 'outputs/' + model_name\n",
        "\n",
        "    joblib.dump(value = model, filename = filename) # 저장 공간에 model 저장\n",
        "    run.upload_file(name = model_name, path_or_stream = filename)\n",
        "\n",
        "    run.complete() # 기록 종료\n",
        "\n",
        "    print(f'{alpha} exp completed')"
      ]
    },
    {
      "cell_type": "code",
      "execution_count": 12,
      "metadata": {
        "gather": {
          "logged": 1675151155510
        },
        "jupyter": {
          "outputs_hidden": false,
          "source_hidden": false
        },
        "nteract": {
          "transient": {
            "deleting": false
          }
        }
      },
      "outputs": [
        {
          "data": {
            "text/html": [
              "<table style=\"width:100%\"><tr><th>Name</th><th>Workspace</th><th>Report Page</th><th>Docs Page</th></tr><tr><td>diabetes-experiment</td><td>labuser15ml</td><td><a href=\"https://ml.azure.com/experiments/id/c21ffe55-4f48-4fc8-b929-83bda10e15e8?wsid=/subscriptions/f5bc93f2-df0a-4b1a-ab9e-2b0203fc7d26/resourcegroups/rg15/workspaces/labuser15ml&amp;tid=c3b5a8fe-e46d-4078-9bd0-5eb0bb801edb\" target=\"_blank\" rel=\"noopener\">Link to Azure Machine Learning studio</a></td><td><a href=\"https://docs.microsoft.com/en-us/python/api/azureml-core/azureml.core.experiment.Experiment?view=azure-ml-py\" target=\"_blank\" rel=\"noopener\">Link to Documentation</a></td></tr></table>"
            ],
            "text/plain": [
              "Experiment(Name: diabetes-experiment,\n",
              "Workspace: labuser15ml)"
            ]
          },
          "execution_count": 12,
          "metadata": {},
          "output_type": "execute_result"
        }
      ],
      "source": [
        "experiment"
      ]
    },
    {
      "cell_type": "code",
      "execution_count": 14,
      "metadata": {
        "gather": {
          "logged": 1675151692036
        },
        "jupyter": {
          "outputs_hidden": false,
          "source_hidden": false
        },
        "nteract": {
          "transient": {
            "deleting": false
          }
        }
      },
      "outputs": [
        {
          "name": "stdout",
          "output_type": "stream",
          "text": [
            "Best run_id: ae268701-3a06-4278-a9d2-8f1602104748\n",
            "Best run_id rmse: 56.60520331339142\n"
          ]
        }
      ],
      "source": [
        "# 오차가 가장 작은 (minimum rmse) 찾고 저장하기\n",
        "\n",
        "minimum_rmse_runid = None\n",
        "minimum_rmse = None\n",
        "\n",
        "for run in experiment.get_runs():\n",
        "    run_metrics = run.get_metrics()\n",
        "    run_details = run.get_details()\n",
        "    \n",
        "    run_rmse = run_metrics['rmse']\n",
        "    run_id = run_details['runId']\n",
        "\n",
        "    if minimum_rmse is None:\n",
        "        minimum_rmse = run_rmse\n",
        "        minimum_rmse_runid = run_id\n",
        "    else:\n",
        "        if run_rmse < minimum_rmse:\n",
        "            minimum_rmse = run_rmse\n",
        "            minimum_rmse_runid = run_id\n",
        "\n",
        "print('Best run_id: ' + minimum_rmse_runid)\n",
        "print('Best run_id rmse: ' + str(minimum_rmse))"
      ]
    },
    {
      "cell_type": "code",
      "execution_count": 17,
      "metadata": {
        "gather": {
          "logged": 1675151859384
        },
        "jupyter": {
          "outputs_hidden": false,
          "source_hidden": false
        },
        "nteract": {
          "transient": {
            "deleting": false
          }
        }
      },
      "outputs": [
        {
          "name": "stdout",
          "output_type": "stream",
          "text": [
            "['model_apha_0.1.pkl', 'outputs/model_apha_0.1.pkl']\n"
          ]
        }
      ],
      "source": [
        "from azureml.core import Run\n",
        "\n",
        "best_run = Run(experiment = experiment, run_id = minimum_rmse_runid)\n",
        "print(best_run.get_file_names())"
      ]
    },
    {
      "cell_type": "code",
      "execution_count": 18,
      "metadata": {
        "gather": {
          "logged": 1675151944049
        },
        "jupyter": {
          "outputs_hidden": false,
          "source_hidden": false
        },
        "nteract": {
          "transient": {
            "deleting": false
          }
        }
      },
      "outputs": [],
      "source": [
        "best_run.download_file(name = str(best_run.get_file_names()[0]))"
      ]
    },
    {
      "cell_type": "code",
      "execution_count": 19,
      "metadata": {
        "gather": {
          "logged": 1675152629368
        },
        "jupyter": {
          "outputs_hidden": false,
          "source_hidden": false
        },
        "nteract": {
          "transient": {
            "deleting": false
          }
        }
      },
      "outputs": [
        {
          "name": "stdout",
          "output_type": "stream",
          "text": [
            "Uploading an estimated of 2 files\n",
            "Uploading ./features.csv\n",
            "Uploaded ./features.csv, 1 files out of an estimated total of 2\n",
            "Uploading ./labels.csv\n",
            "Uploaded ./labels.csv, 2 files out of an estimated total of 2\n",
            "Uploaded 2 files\n"
          ]
        },
        {
          "data": {
            "text/plain": [
              "$AZUREML_DATAREFERENCE_bf174352721540b39dfcf1b7bff71aa4"
            ]
          },
          "execution_count": 19,
          "metadata": {},
          "output_type": "execute_result"
        },
        {
          "name": "stderr",
          "output_type": "stream",
          "text": [
            "\"datastore.upload_files\" is deprecated after version 1.0.69. Please use \"FileDatasetFactory.upload_directory\" instead. See Dataset API change notice at https://aka.ms/dataset-deprecation.\n"
          ]
        }
      ],
      "source": [
        "import numpy as np\n",
        "from azureml.core import Dataset\n",
        "\n",
        "# experiment에 사용한 data들 file로 저장\n",
        "np.savetxt('features.csv', X_train, delimiter = ',')\n",
        "np.savetxt('labels.csv', y_train, delimiter = ',')\n",
        "\n",
        "datastore = ws.get_default_datastore()\n",
        "datastore.upload_files(\n",
        "    files = ['./features.csv', './labels.csv'],\n",
        "    target_path = 'diabetes-experiment/',\n",
        "    overwrite = True # 중복 데이터 덮어 쓰기\n",
        ")"
      ]
    }
  ],
  "metadata": {
    "kernel_info": {
      "name": "python38-azureml"
    },
    "kernelspec": {
      "display_name": "Python 3.8 - AzureML",
      "language": "python",
      "name": "python38-azureml"
    },
    "language_info": {
      "codemirror_mode": {
        "name": "ipython",
        "version": 3
      },
      "file_extension": ".py",
      "mimetype": "text/x-python",
      "name": "python",
      "nbconvert_exporter": "python",
      "pygments_lexer": "ipython3",
      "version": "3.8.5"
    },
    "microsoft": {
      "host": {
        "AzureML": {
          "notebookHasBeenCompleted": true
        }
      }
    },
    "nteract": {
      "version": "nteract-front-end@1.0.0"
    }
  },
  "nbformat": 4,
  "nbformat_minor": 2
}
